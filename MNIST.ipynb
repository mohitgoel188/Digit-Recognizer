{
 "cells": [
  {
   "cell_type": "code",
   "execution_count": 1,
   "metadata": {},
   "outputs": [],
   "source": [
    "import tensorflow as tf\n",
    "import numpy as np\n",
    "from datetime import datetime,timedelta"
   ]
  },
  {
   "cell_type": "markdown",
   "metadata": {},
   "source": [
    "# Construction Phase\n"
   ]
  },
  {
   "cell_type": "code",
   "execution_count": 2,
   "metadata": {},
   "outputs": [],
   "source": [
    "n_inputs=28*28\n",
    "n_hidden1=300\n",
    "n_hidden2=100\n",
    "n_output=10\n"
   ]
  },
  {
   "cell_type": "code",
   "execution_count": 3,
   "metadata": {},
   "outputs": [],
   "source": [
    "X=tf.placeholder(tf.float32,shape=(None,n_inputs),name='X')\n",
    "y=tf.placeholder(tf.int64,shape=(None),name='y')"
   ]
  },
  {
   "cell_type": "code",
   "execution_count": 4,
   "metadata": {},
   "outputs": [],
   "source": [
    "from tensorflow.contrib.layers import fully_connected"
   ]
  },
  {
   "cell_type": "code",
   "execution_count": 5,
   "metadata": {},
   "outputs": [],
   "source": [
    "with tf.name_scope(\"dnn\"):\n",
    "    hidden1=fully_connected(X,n_hidden1,scope='hidden1')\n",
    "    hidden2=fully_connected(hidden1,n_hidden2,scope='hidden2')\n",
    "    logits=fully_connected(hidden2,n_output,scope=\"outputs\",activation_fn=None)"
   ]
  },
  {
   "cell_type": "code",
   "execution_count": 6,
   "metadata": {},
   "outputs": [],
   "source": [
    "with tf.name_scope(\"loss\"):\n",
    "    xentropy=tf.nn.sparse_softmax_cross_entropy_with_logits(logits=logits,labels=y)\n",
    "    loss=tf.reduce_mean(xentropy,name='loss')"
   ]
  },
  {
   "cell_type": "code",
   "execution_count": 7,
   "metadata": {},
   "outputs": [],
   "source": [
    "learning_rate=0.01\n",
    "with tf.name_scope(\"train\"):\n",
    "    optimizer=tf.train.GradientDescentOptimizer(learning_rate)\n",
    "    training_op=optimizer.minimize(loss)"
   ]
  },
  {
   "cell_type": "code",
   "execution_count": 8,
   "metadata": {},
   "outputs": [],
   "source": [
    "with tf.name_scope('eval'):\n",
    "    correct=tf.nn.in_top_k(logits,y,1)\n",
    "    accuracy=tf.reduce_mean(tf.cast(correct,tf.float32))"
   ]
  },
  {
   "cell_type": "code",
   "execution_count": 9,
   "metadata": {},
   "outputs": [],
   "source": [
    "init=tf.global_variables_initializer()\n",
    "saver=tf.train.Saver()"
   ]
  },
  {
   "cell_type": "markdown",
   "metadata": {},
   "source": [
    "# Execution Phase"
   ]
  },
  {
   "cell_type": "code",
   "execution_count": 10,
   "metadata": {},
   "outputs": [],
   "source": [
    "from tensorflow.examples.tutorials.mnist import input_data\n"
   ]
  },
  {
   "cell_type": "code",
   "execution_count": 11,
   "metadata": {},
   "outputs": [
    {
     "name": "stdout",
     "output_type": "stream",
     "text": [
      "Extracting /tmp/data/train-images-idx3-ubyte.gz\n",
      "Extracting /tmp/data/train-labels-idx1-ubyte.gz\n",
      "Extracting /tmp/data/t10k-images-idx3-ubyte.gz\n",
      "Extracting /tmp/data/t10k-labels-idx1-ubyte.gz\n"
     ]
    }
   ],
   "source": [
    "mnist=input_data.read_data_sets('/tmp/data/')"
   ]
  },
  {
   "cell_type": "code",
   "execution_count": 12,
   "metadata": {},
   "outputs": [],
   "source": [
    "n_epochs=400\n",
    "batch_size=100"
   ]
  },
  {
   "cell_type": "code",
   "execution_count": 13,
   "metadata": {},
   "outputs": [
    {
     "name": "stdout",
     "output_type": "stream",
     "text": [
      "0-Train acc:0.8700000047683716 Test acc:0.8788999915122986 ETA:0:42:08.161600\n",
      "1-Train acc:0.8899999856948853 Test acc:0.9036999940872192 ETA:0:43:00.938283\n",
      "2-Train acc:0.9300000071525574 Test acc:0.9156000018119812 ETA:0:42:37.190994\n",
      "3-Train acc:0.949999988079071 Test acc:0.9218999743461609 ETA:0:43:30.002658\n",
      "4-Train acc:0.8700000047683716 Test acc:0.9266999959945679 ETA:0:42:46.858932\n",
      "5-Train acc:0.9700000286102295 Test acc:0.9314000010490417 ETA:0:42:42.852035\n",
      "6-Train acc:0.9399999976158142 Test acc:0.9337999820709229 ETA:0:42:27.345536\n",
      "7-Train acc:0.9300000071525574 Test acc:0.9361000061035156 ETA:0:42:37.388943\n",
      "8-Train acc:0.9399999976158142 Test acc:0.9409000277519226 ETA:0:42:28.992544\n",
      "9-Train acc:0.9800000190734863 Test acc:0.9412000179290771 ETA:0:42:21.712313\n",
      "10-Train acc:0.9300000071525574 Test acc:0.9445000290870667 ETA:0:41:56.454330\n",
      "11-Train acc:0.9700000286102295 Test acc:0.9455999732017517 ETA:0:43:19.432205\n",
      "12-Train acc:0.9599999785423279 Test acc:0.9478999972343445 ETA:0:41:59.529216\n",
      "13-Train acc:0.9399999976158142 Test acc:0.9498000144958496 ETA:0:41:45.539394\n",
      "14-Train acc:0.9399999976158142 Test acc:0.9505000114440918 ETA:0:41:32.123694\n",
      "15-Train acc:0.9599999785423279 Test acc:0.95169997215271 ETA:0:41:36.365025\n",
      "16-Train acc:0.9399999976158142 Test acc:0.9523000121116638 ETA:0:41:26.790528\n",
      "17-Train acc:0.9200000166893005 Test acc:0.9541000127792358 ETA:0:41:35.663236\n",
      "18-Train acc:0.9800000190734863 Test acc:0.9567000269889832 ETA:0:41:37.710820\n",
      "19-Train acc:0.949999988079071 Test acc:0.9570000171661377 ETA:0:41:05.883816\n",
      "20-Train acc:0.9399999976158142 Test acc:0.9589999914169312 ETA:0:40:55.620040\n",
      "21-Train acc:0.9700000286102295 Test acc:0.9595000147819519 ETA:0:40:52.157288\n",
      "22-Train acc:0.9300000071525574 Test acc:0.9599999785423279 ETA:0:40:53.644872\n",
      "23-Train acc:1.0 Test acc:0.9603999853134155 ETA:0:40:37.136104\n",
      "24-Train acc:0.949999988079071 Test acc:0.9613999724388123 ETA:0:39:29.626448\n",
      "25-Train acc:0.9800000190734863 Test acc:0.9628000259399414 ETA:0:40:18.230250\n",
      "26-Train acc:0.9399999976158142 Test acc:0.9646000266075134 ETA:0:40:01.263634\n",
      "27-Train acc:0.949999988079071 Test acc:0.9645000100135803 ETA:0:41:11.431606\n",
      "28-Train acc:0.9800000190734863 Test acc:0.9661999940872192 ETA:0:40:55.978596\n",
      "29-Train acc:0.9900000095367432 Test acc:0.967199981212616 ETA:0:40:15.956081\n",
      "30-Train acc:0.9800000190734863 Test acc:0.96670001745224 ETA:0:39:49.400800\n",
      "31-Train acc:0.9599999785423279 Test acc:0.9672999978065491 ETA:0:40:04.261935\n",
      "32-Train acc:0.949999988079071 Test acc:0.9675999879837036 ETA:0:39:46.741648\n",
      "33-Train acc:0.9800000190734863 Test acc:0.9688000082969666 ETA:0:39:35.559805\n",
      "34-Train acc:0.9800000190734863 Test acc:0.9682999849319458 ETA:0:39:34.748178\n",
      "35-Train acc:0.9800000190734863 Test acc:0.9692000150680542 ETA:0:38:53.305205\n",
      "36-Train acc:0.9800000190734863 Test acc:0.9704999923706055 ETA:0:37:09.585176\n",
      "37-Train acc:0.949999988079071 Test acc:0.9703999757766724 ETA:0:35:38.389077\n",
      "38-Train acc:0.9900000095367432 Test acc:0.9690999984741211 ETA:0:37:25.563106\n",
      "39-Train acc:0.9800000190734863 Test acc:0.9706000089645386 ETA:0:39:23.820780\n",
      "40-Train acc:0.9700000286102295 Test acc:0.9706000089645386 ETA:0:43:38.156520\n",
      "41-Train acc:0.9900000095367432 Test acc:0.9714000225067139 ETA:0:29:39.243849\n",
      "42-Train acc:0.9900000095367432 Test acc:0.9718000292778015 ETA:0:30:28.401586\n",
      "43-Train acc:0.9900000095367432 Test acc:0.9714000225067139 ETA:0:39:56.311806\n",
      "44-Train acc:0.9800000190734863 Test acc:0.972100019454956 ETA:0:38:26.180104\n",
      "45-Train acc:0.9900000095367432 Test acc:0.972100019454956 ETA:0:38:12.848440\n",
      "46-Train acc:1.0 Test acc:0.9725000262260437 ETA:0:37:40.457796\n",
      "47-Train acc:1.0 Test acc:0.9732999801635742 ETA:0:37:37.846951\n",
      "48-Train acc:0.9800000190734863 Test acc:0.973800003528595 ETA:0:37:33.635648\n",
      "49-Train acc:0.9900000095367432 Test acc:0.9743000268936157 ETA:0:37:12.546381\n",
      "50-Train acc:0.9599999785423279 Test acc:0.9736999869346619 ETA:0:37:27.854700\n",
      "51-Train acc:0.9700000286102295 Test acc:0.9745000004768372 ETA:0:37:17.960406\n",
      "52-Train acc:0.9900000095367432 Test acc:0.9740999937057495 ETA:0:36:57.371784\n",
      "53-Train acc:1.0 Test acc:0.9746000170707703 ETA:0:37:00.744133\n",
      "54-Train acc:0.9900000095367432 Test acc:0.9745000004768372 ETA:0:37:23.730766\n",
      "55-Train acc:0.9900000095367432 Test acc:0.9758999943733215 ETA:0:36:46.128375\n",
      "56-Train acc:1.0 Test acc:0.9747999906539917 ETA:0:36:48.127744\n",
      "57-Train acc:1.0 Test acc:0.9757000207901001 ETA:0:36:43.575031\n",
      "58-Train acc:0.9900000095367432 Test acc:0.9760000109672546 ETA:0:36:34.011396\n",
      "59-Train acc:0.9700000286102295 Test acc:0.9761999845504761 ETA:0:36:33.402365\n",
      "60-Train acc:0.9900000095367432 Test acc:0.975600004196167 ETA:0:36:36.661460\n",
      "61-Train acc:0.9900000095367432 Test acc:0.9767000079154968 ETA:0:36:23.381367\n",
      "62-Train acc:1.0 Test acc:0.9758999943733215 ETA:0:36:09.099790\n",
      "63-Train acc:0.9800000190734863 Test acc:0.9763000011444092 ETA:0:36:09.372459\n",
      "64-Train acc:1.0 Test acc:0.9765999913215637 ETA:0:36:03.265440\n",
      "65-Train acc:1.0 Test acc:0.9758999943733215 ETA:0:35:37.789770\n",
      "66-Train acc:0.9900000095367432 Test acc:0.9764999747276306 ETA:0:35:31.815120\n",
      "67-Train acc:0.9900000095367432 Test acc:0.9764999747276306 ETA:0:35:46.353498\n",
      "68-Train acc:1.0 Test acc:0.9764000177383423 ETA:0:35:38.439888\n",
      "69-Train acc:0.9700000286102295 Test acc:0.9767000079154968 ETA:0:35:23.257425\n",
      "70-Train acc:0.9700000286102295 Test acc:0.9768000245094299 ETA:0:35:20.380350\n",
      "71-Train acc:0.9900000095367432 Test acc:0.9772999882698059 ETA:0:34:15.717020\n",
      "72-Train acc:0.9800000190734863 Test acc:0.9779000282287598 ETA:0:33:59.149104\n",
      "73-Train acc:1.0 Test acc:0.9771999716758728 ETA:0:34:59.528352\n",
      "74-Train acc:0.9900000095367432 Test acc:0.9771000146865845 ETA:0:34:40.715538\n",
      "75-Train acc:1.0 Test acc:0.9776999950408936 ETA:0:34:46.230575\n",
      "76-Train acc:1.0 Test acc:0.9771000146865845 ETA:0:34:43.704264\n",
      "77-Train acc:0.9900000095367432 Test acc:0.9782000184059143 ETA:0:34:33.699083\n",
      "78-Train acc:1.0 Test acc:0.977400004863739 ETA:0:34:22.927132\n",
      "79-Train acc:1.0 Test acc:0.9775000214576721 ETA:0:35:08.082756\n",
      "80-Train acc:1.0 Test acc:0.9779999852180481 ETA:0:35:30.024640\n",
      "81-Train acc:0.9900000095367432 Test acc:0.9786999821662903 ETA:0:34:17.538835\n",
      "82-Train acc:0.9900000095367432 Test acc:0.9789999723434448 ETA:0:34:07.016244\n",
      "83-Train acc:1.0 Test acc:0.978600025177002 ETA:0:33:51.221246\n",
      "84-Train acc:1.0 Test acc:0.9789000153541565 ETA:0:33:39.378092\n",
      "85-Train acc:1.0 Test acc:0.9787999987602234 ETA:0:33:43.779870\n",
      "86-Train acc:0.9900000095367432 Test acc:0.9786999821662903 ETA:0:33:31.934904\n",
      "87-Train acc:0.9900000095367432 Test acc:0.9787999987602234 ETA:0:33:11.988966\n",
      "88-Train acc:1.0 Test acc:0.9785000085830688 ETA:0:33:38.087760\n",
      "89-Train acc:1.0 Test acc:0.9781000018119812 ETA:0:33:10.232993\n",
      "90-Train acc:1.0 Test acc:0.9789000153541565 ETA:0:32:56.387330\n",
      "91-Train acc:0.9900000095367432 Test acc:0.9790999889373779 ETA:0:32:45.289749\n",
      "92-Train acc:1.0 Test acc:0.9789000153541565 ETA:0:32:35.121168\n",
      "93-Train acc:0.9900000095367432 Test acc:0.9786999821662903 ETA:0:32:37.309200\n",
      "94-Train acc:1.0 Test acc:0.979200005531311 ETA:0:32:33.163728\n",
      "95-Train acc:1.0 Test acc:0.9793999791145325 ETA:0:32:27.666560\n",
      "96-Train acc:1.0 Test acc:0.9799000024795532 ETA:0:32:19.888752\n",
      "97-Train acc:1.0 Test acc:0.9794999957084656 ETA:0:32:09.997284\n",
      "98-Train acc:1.0 Test acc:0.9797999858856201 ETA:0:32:09.893250\n",
      "99-Train acc:0.9900000095367432 Test acc:0.9797000288963318 ETA:0:32:16.869984\n",
      "100-Train acc:1.0 Test acc:0.9797000288963318 ETA:0:31:51.359700\n",
      "101-Train acc:0.9900000095367432 Test acc:0.9793000221252441 ETA:0:32:30.165009\n",
      "102-Train acc:1.0 Test acc:0.9797000288963318 ETA:0:32:10.039316\n",
      "103-Train acc:0.9900000095367432 Test acc:0.9797999858856201 ETA:0:32:02.326263\n",
      "104-Train acc:1.0 Test acc:0.9800000190734863 ETA:0:31:30.031632\n",
      "105-Train acc:0.9900000095367432 Test acc:0.9794999957084656 ETA:0:31:14.725295\n",
      "106-Train acc:1.0 Test acc:0.9797999858856201 ETA:0:31:19.740450\n",
      "107-Train acc:1.0 Test acc:0.9794999957084656 ETA:0:30:47.602916\n",
      "108-Train acc:1.0 Test acc:0.979200005531311 ETA:0:31:02.636756\n",
      "109-Train acc:0.9900000095367432 Test acc:0.9801999926567078 ETA:0:30:52.838031\n",
      "110-Train acc:1.0 Test acc:0.9800999760627747 ETA:0:30:46.618500\n"
     ]
    },
    {
     "name": "stdout",
     "output_type": "stream",
     "text": [
      "111-Train acc:1.0 Test acc:0.9797999858856201 ETA:0:30:40.113864\n",
      "112-Train acc:1.0 Test acc:0.9797000288963318 ETA:0:30:38.057760\n",
      "113-Train acc:1.0 Test acc:0.9797000288963318 ETA:0:30:35.611246\n",
      "114-Train acc:1.0 Test acc:0.9797999858856201 ETA:0:30:23.274882\n",
      "115-Train acc:1.0 Test acc:0.9804999828338623 ETA:0:30:21.439845\n",
      "116-Train acc:1.0 Test acc:0.9800000190734863 ETA:0:30:14.141164\n",
      "117-Train acc:1.0 Test acc:0.9807000160217285 ETA:0:30:02.839614\n",
      "118-Train acc:1.0 Test acc:0.9803000092506409 ETA:0:29:00.426168\n",
      "119-Train acc:1.0 Test acc:0.9799000024795532 ETA:0:29:09.608565\n",
      "120-Train acc:1.0 Test acc:0.9799000024795532 ETA:0:29:46.928080\n",
      "121-Train acc:1.0 Test acc:0.9803000092506409 ETA:0:29:40.052922\n",
      "122-Train acc:1.0 Test acc:0.9797999858856201 ETA:0:29:47.272286\n",
      "123-Train acc:0.9900000095367432 Test acc:0.9799000024795532 ETA:0:30:04.419827\n",
      "124-Train acc:1.0 Test acc:0.9796000123023987 ETA:0:29:27.008580\n",
      "125-Train acc:1.0 Test acc:0.9800999760627747 ETA:0:29:12.534300\n",
      "126-Train acc:1.0 Test acc:0.9797000288963318 ETA:0:29:11.362516\n",
      "127-Train acc:1.0 Test acc:0.9801999926567078 ETA:0:29:16.311921\n",
      "128-Train acc:1.0 Test acc:0.980400025844574 ETA:0:29:14.593392\n",
      "129-Train acc:1.0 Test acc:0.9800000190734863 ETA:0:28:55.090508\n",
      "130-Train acc:1.0 Test acc:0.9797999858856201 ETA:0:28:35.339700\n",
      "131-Train acc:1.0 Test acc:0.9797000288963318 ETA:0:28:37.650811\n",
      "132-Train acc:1.0 Test acc:0.9804999828338623 ETA:0:28:32.579496\n",
      "133-Train acc:1.0 Test acc:0.9805999994277954 ETA:0:28:24.766431\n",
      "134-Train acc:1.0 Test acc:0.9799000024795532 ETA:0:28:25.018504\n",
      "135-Train acc:1.0 Test acc:0.9805999994277954 ETA:0:28:16.794735\n",
      "136-Train acc:1.0 Test acc:0.9804999828338623 ETA:0:28:14.371800\n",
      "137-Train acc:1.0 Test acc:0.9801999926567078 ETA:0:28:03.851714\n",
      "138-Train acc:1.0 Test acc:0.9807000160217285 ETA:0:27:49.751152\n",
      "139-Train acc:1.0 Test acc:0.9797000288963318 ETA:0:27:43.450092\n",
      "140-Train acc:1.0 Test acc:0.9803000092506409 ETA:0:27:41.850840\n",
      "141-Train acc:1.0 Test acc:0.9800000190734863 ETA:0:27:33.839320\n",
      "142-Train acc:1.0 Test acc:0.9793999791145325 ETA:0:27:33.925254\n",
      "143-Train acc:1.0 Test acc:0.9797000288963318 ETA:0:27:15.091311\n",
      "144-Train acc:1.0 Test acc:0.9801999926567078 ETA:0:27:22.330624\n",
      "145-Train acc:0.9900000095367432 Test acc:0.9799000024795532 ETA:0:27:09.281700\n",
      "146-Train acc:1.0 Test acc:0.9797000288963318 ETA:0:26:56.162122\n",
      "147-Train acc:1.0 Test acc:0.9804999828338623 ETA:0:26:48.295447\n",
      "148-Train acc:1.0 Test acc:0.980400025844574 ETA:0:26:47.787216\n",
      "149-Train acc:1.0 Test acc:0.9800000190734863 ETA:0:26:49.541265\n",
      "150-Train acc:1.0 Test acc:0.9803000092506409 ETA:0:26:38.960750\n",
      "151-Train acc:1.0 Test acc:0.9800999760627747 ETA:0:26:28.514673\n",
      "152-Train acc:1.0 Test acc:0.9803000092506409 ETA:0:26:26.002656\n",
      "153-Train acc:1.0 Test acc:0.9797999858856201 ETA:0:26:17.673721\n",
      "154-Train acc:1.0 Test acc:0.9800000190734863 ETA:0:26:19.432914\n",
      "155-Train acc:1.0 Test acc:0.9803000092506409 ETA:0:25:59.579595\n",
      "156-Train acc:1.0 Test acc:0.9800999760627747 ETA:0:25:59.010184\n",
      "157-Train acc:0.9900000095367432 Test acc:0.9800999760627747 ETA:0:25:55.417971\n",
      "158-Train acc:1.0 Test acc:0.9800999760627747 ETA:0:25:42.954248\n",
      "159-Train acc:1.0 Test acc:0.9800000190734863 ETA:0:25:34.833564\n",
      "160-Train acc:1.0 Test acc:0.9800999760627747 ETA:0:25:24.896400\n",
      "161-Train acc:1.0 Test acc:0.9800999760627747 ETA:0:25:29.130604\n",
      "162-Train acc:1.0 Test acc:0.9800000190734863 ETA:0:25:16.452700\n",
      "163-Train acc:1.0 Test acc:0.980400025844574 ETA:0:25:10.286529\n",
      "164-Train acc:1.0 Test acc:0.9803000092506409 ETA:0:25:01.922880\n",
      "165-Train acc:1.0 Test acc:0.9797999858856201 ETA:0:24:05.216160\n",
      "166-Train acc:1.0 Test acc:0.9797000288963318 ETA:0:24:55.976508\n",
      "167-Train acc:1.0 Test acc:0.9799000024795532 ETA:0:24:47.784919\n",
      "168-Train acc:1.0 Test acc:0.9797999858856201 ETA:0:24:38.329056\n",
      "169-Train acc:0.9900000095367432 Test acc:0.980400025844574 ETA:0:24:36.494250\n",
      "170-Train acc:1.0 Test acc:0.9793999791145325 ETA:0:24:20.234580\n",
      "171-Train acc:1.0 Test acc:0.9800000190734863 ETA:0:24:23.532588\n",
      "172-Train acc:1.0 Test acc:0.9793999791145325 ETA:0:24:14.207940\n",
      "173-Train acc:1.0 Test acc:0.9801999926567078 ETA:0:24:21.565832\n",
      "174-Train acc:1.0 Test acc:0.9799000024795532 ETA:0:24:09.097762\n",
      "175-Train acc:1.0 Test acc:0.9801999926567078 ETA:0:23:58.301700\n",
      "176-Train acc:1.0 Test acc:0.9804999828338623 ETA:0:24:40.849888\n",
      "177-Train acc:1.0 Test acc:0.9803000092506409 ETA:0:23:39.310260\n",
      "178-Train acc:1.0 Test acc:0.9793000221252441 ETA:0:23:29.580564\n",
      "179-Train acc:1.0 Test acc:0.9801999926567078 ETA:0:23:28.565821\n",
      "180-Train acc:1.0 Test acc:0.9799000024795532 ETA:0:23:25.142200\n",
      "181-Train acc:1.0 Test acc:0.9797000288963318 ETA:0:23:24.045354\n",
      "182-Train acc:1.0 Test acc:0.9800000190734863 ETA:0:23:10.376096\n",
      "183-Train acc:1.0 Test acc:0.9797999858856201 ETA:0:22:59.351820\n",
      "184-Train acc:1.0 Test acc:0.9800000190734863 ETA:0:22:58.608984\n",
      "185-Train acc:1.0 Test acc:0.9793999791145325 ETA:0:22:47.331415\n",
      "186-Train acc:1.0 Test acc:0.9797000288963318 ETA:0:22:45.978478\n",
      "187-Train acc:1.0 Test acc:0.9799000024795532 ETA:0:22:38.559156\n",
      "188-Train acc:1.0 Test acc:0.9800000190734863 ETA:0:22:33.626572\n",
      "189-Train acc:1.0 Test acc:0.9796000123023987 ETA:0:22:28.951696\n",
      "190-Train acc:1.0 Test acc:0.9800999760627747 ETA:0:22:19.533090\n",
      "191-Train acc:1.0 Test acc:0.9796000123023987 ETA:0:22:20.728103\n",
      "192-Train acc:1.0 Test acc:0.9793999791145325 ETA:0:22:15.989408\n",
      "193-Train acc:1.0 Test acc:0.9797999858856201 ETA:0:22:00.993477\n",
      "194-Train acc:1.0 Test acc:0.9797999858856201 ETA:0:21:50.710432\n",
      "195-Train acc:1.0 Test acc:0.9794999957084656 ETA:0:21:47.512140\n",
      "196-Train acc:1.0 Test acc:0.9797999858856201 ETA:0:21:42.793776\n",
      "197-Train acc:1.0 Test acc:0.9799000024795532 ETA:0:21:44.592898\n",
      "198-Train acc:1.0 Test acc:0.9793999791145325 ETA:0:21:27.644960\n",
      "199-Train acc:1.0 Test acc:0.9797000288963318 ETA:0:21:16.938126\n",
      "200-Train acc:1.0 Test acc:0.9797999858856201 ETA:0:21:24.217400\n",
      "201-Train acc:1.0 Test acc:0.9797000288963318 ETA:0:21:09.345380\n",
      "202-Train acc:1.0 Test acc:0.9794999957084656 ETA:0:21:15.604704\n",
      "203-Train acc:1.0 Test acc:0.9800999760627747 ETA:0:20:58.457079\n",
      "204-Train acc:1.0 Test acc:0.9799000024795532 ETA:0:20:45.381452\n",
      "205-Train acc:1.0 Test acc:0.9797000288963318 ETA:0:20:39.283305\n",
      "206-Train acc:1.0 Test acc:0.9800000190734863 ETA:0:20:36.839822\n",
      "207-Train acc:1.0 Test acc:0.9793999791145325 ETA:0:20:31.630272\n",
      "208-Train acc:1.0 Test acc:0.9796000123023987 ETA:0:20:24.747840\n",
      "209-Train acc:1.0 Test acc:0.9801999926567078 ETA:0:20:22.565406\n",
      "210-Train acc:1.0 Test acc:0.9797999858856201 ETA:0:20:10.549660\n",
      "211-Train acc:1.0 Test acc:0.9794999957084656 ETA:0:20:14.035830\n",
      "212-Train acc:1.0 Test acc:0.9794999957084656 ETA:0:19:17.749496\n",
      "213-Train acc:1.0 Test acc:0.9793999791145325 ETA:0:19:52.615688\n",
      "214-Train acc:1.0 Test acc:0.9794999957084656 ETA:0:19:44.442978\n",
      "215-Train acc:1.0 Test acc:0.9796000123023987 ETA:0:19:32.558860\n",
      "216-Train acc:1.0 Test acc:0.9797999858856201 ETA:0:19:32.506880\n",
      "217-Train acc:1.0 Test acc:0.9794999957084656 ETA:0:19:37.148232\n",
      "218-Train acc:1.0 Test acc:0.9797000288963318 ETA:0:19:47.855578\n",
      "219-Train acc:1.0 Test acc:0.9794999957084656 ETA:0:19:38.516159\n",
      "220-Train acc:1.0 Test acc:0.9793999791145325 ETA:0:19:27.844680\n",
      "221-Train acc:1.0 Test acc:0.9800999760627747 ETA:0:19:17.096454\n",
      "222-Train acc:1.0 Test acc:0.9800000190734863 ETA:0:19:02.780292\n",
      "223-Train acc:1.0 Test acc:0.9797000288963318 ETA:0:18:53.161788\n",
      "224-Train acc:1.0 Test acc:0.9793000221252441 ETA:0:18:43.545984\n",
      "225-Train acc:1.0 Test acc:0.9797000288963318 ETA:0:18:35.679075\n",
      "226-Train acc:1.0 Test acc:0.9793999791145325 ETA:0:18:29.479158\n",
      "227-Train acc:1.0 Test acc:0.9796000123023987 ETA:0:18:24.152778\n",
      "228-Train acc:1.0 Test acc:0.9797999858856201 ETA:0:18:21.958592\n",
      "229-Train acc:1.0 Test acc:0.9799000024795532 ETA:0:18:19.212795\n",
      "230-Train acc:1.0 Test acc:0.9794999957084656 ETA:0:18:05.172730\n",
      "231-Train acc:1.0 Test acc:0.9797000288963318 ETA:0:18:00.090999\n",
      "232-Train acc:1.0 Test acc:0.9794999957084656 ETA:0:17:50.841240\n",
      "233-Train acc:1.0 Test acc:0.9796000123023987 ETA:0:17:43.088600\n",
      "234-Train acc:1.0 Test acc:0.9797999858856201 ETA:0:17:34.882026\n",
      "235-Train acc:1.0 Test acc:0.9796000123023987 ETA:0:17:31.480815\n",
      "236-Train acc:1.0 Test acc:0.9799000024795532 ETA:0:17:34.935576\n"
     ]
    },
    {
     "name": "stdout",
     "output_type": "stream",
     "text": [
      "237-Train acc:1.0 Test acc:0.9794999957084656 ETA:0:17:14.511937\n",
      "238-Train acc:1.0 Test acc:0.9790999889373779 ETA:0:17:15.512910\n",
      "239-Train acc:1.0 Test acc:0.9797000288963318 ETA:0:17:11.895368\n",
      "240-Train acc:1.0 Test acc:0.9800000190734863 ETA:0:17:12.752000\n",
      "241-Train acc:1.0 Test acc:0.9794999957084656 ETA:0:16:55.417407\n",
      "242-Train acc:1.0 Test acc:0.9794999957084656 ETA:0:16:45.737308\n",
      "243-Train acc:1.0 Test acc:0.9799000024795532 ETA:0:16:41.861745\n",
      "244-Train acc:1.0 Test acc:0.9799000024795532 ETA:0:16:38.484084\n",
      "245-Train acc:1.0 Test acc:0.9796000123023987 ETA:0:16:29.672830\n",
      "246-Train acc:1.0 Test acc:0.9797000288963318 ETA:0:16:26.034434\n",
      "247-Train acc:1.0 Test acc:0.9796000123023987 ETA:0:16:22.746693\n",
      "248-Train acc:1.0 Test acc:0.9793999791145325 ETA:0:16:15.557584\n",
      "249-Train acc:1.0 Test acc:0.9796000123023987 ETA:0:16:02.084269\n",
      "250-Train acc:1.0 Test acc:0.9794999957084656 ETA:0:15:55.961550\n",
      "251-Train acc:1.0 Test acc:0.9796000123023987 ETA:0:15:46.568988\n",
      "252-Train acc:1.0 Test acc:0.9797000288963318 ETA:0:15:45.521236\n",
      "253-Train acc:1.0 Test acc:0.9796000123023987 ETA:0:15:38.119308\n",
      "254-Train acc:1.0 Test acc:0.9793999791145325 ETA:0:15:32.007352\n",
      "255-Train acc:1.0 Test acc:0.9793999791145325 ETA:0:15:29.517570\n",
      "256-Train acc:1.0 Test acc:0.9797999858856201 ETA:0:15:22.538160\n",
      "257-Train acc:1.0 Test acc:0.9797999858856201 ETA:0:15:13.127215\n",
      "258-Train acc:1.0 Test acc:0.9794999957084656 ETA:0:15:03.597120\n",
      "259-Train acc:1.0 Test acc:0.9797999858856201 ETA:0:14:32.113905\n",
      "260-Train acc:1.0 Test acc:0.9797000288963318 ETA:0:14:50.004640\n",
      "261-Train acc:1.0 Test acc:0.9797999858856201 ETA:0:14:46.057307\n",
      "262-Train acc:1.0 Test acc:0.9800000190734863 ETA:0:14:39.526440\n",
      "263-Train acc:1.0 Test acc:0.9796000123023987 ETA:0:14:32.841522\n",
      "264-Train acc:1.0 Test acc:0.9797999858856201 ETA:0:14:23.821952\n",
      "265-Train acc:1.0 Test acc:0.9796000123023987 ETA:0:14:17.264985\n",
      "266-Train acc:1.0 Test acc:0.9797999858856201 ETA:0:14:17.012142\n",
      "267-Train acc:1.0 Test acc:0.9794999957084656 ETA:0:14:17.619511\n",
      "268-Train acc:1.0 Test acc:0.9794999957084656 ETA:0:14:06.106008\n",
      "269-Train acc:1.0 Test acc:0.9793999791145325 ETA:0:13:56.417184\n",
      "270-Train acc:1.0 Test acc:0.9797000288963318 ETA:0:13:49.885420\n",
      "271-Train acc:1.0 Test acc:0.9794999957084656 ETA:0:13:42.543990\n",
      "272-Train acc:1.0 Test acc:0.9797999858856201 ETA:0:13:37.862528\n",
      "273-Train acc:1.0 Test acc:0.9799000024795532 ETA:0:13:30.083343\n",
      "274-Train acc:1.0 Test acc:0.9797999858856201 ETA:0:13:17.327118\n",
      "275-Train acc:1.0 Test acc:0.9797000288963318 ETA:0:13:19.581500\n",
      "276-Train acc:1.0 Test acc:0.9796000123023987 ETA:0:13:09.347296\n",
      "277-Train acc:1.0 Test acc:0.9797999858856201 ETA:0:13:02.715297\n",
      "278-Train acc:1.0 Test acc:0.9799000024795532 ETA:0:12:59.705660\n",
      "279-Train acc:1.0 Test acc:0.9797000288963318 ETA:0:12:52.372040\n",
      "280-Train acc:1.0 Test acc:0.9794999957084656 ETA:0:12:43.462800\n",
      "281-Train acc:1.0 Test acc:0.9797000288963318 ETA:0:12:38.325358\n",
      "282-Train acc:1.0 Test acc:0.9797000288963318 ETA:0:12:31.612446\n",
      "283-Train acc:1.0 Test acc:0.9799000024795532 ETA:0:12:24.910101\n",
      "284-Train acc:1.0 Test acc:0.9796000123023987 ETA:0:12:20.234396\n",
      "285-Train acc:1.0 Test acc:0.9797000288963318 ETA:0:12:10.578670\n",
      "286-Train acc:1.0 Test acc:0.9800000190734863 ETA:0:12:12.206838\n",
      "287-Train acc:1.0 Test acc:0.9797000288963318 ETA:0:11:58.879219\n",
      "288-Train acc:1.0 Test acc:0.9799000024795532 ETA:0:11:53.708128\n",
      "289-Train acc:1.0 Test acc:0.9796000123023987 ETA:0:11:48.657411\n",
      "290-Train acc:1.0 Test acc:0.9797000288963318 ETA:0:11:41.736420\n",
      "291-Train acc:1.0 Test acc:0.9797999858856201 ETA:0:11:34.474861\n",
      "292-Train acc:1.0 Test acc:0.9799000024795532 ETA:0:11:30.066000\n",
      "293-Train acc:1.0 Test acc:0.9797000288963318 ETA:0:11:23.779755\n",
      "294-Train acc:1.0 Test acc:0.9799000024795532 ETA:0:11:21.057208\n",
      "295-Train acc:1.0 Test acc:0.9797999858856201 ETA:0:11:10.978140\n",
      "296-Train acc:1.0 Test acc:0.9797000288963318 ETA:0:11:05.543736\n",
      "297-Train acc:1.0 Test acc:0.9797000288963318 ETA:0:10:58.938998\n",
      "298-Train acc:1.0 Test acc:0.9797999858856201 ETA:0:10:49.745610\n",
      "299-Train acc:1.0 Test acc:0.9799000024795532 ETA:0:10:43.185877\n",
      "300-Train acc:1.0 Test acc:0.9801999926567078 ETA:0:10:37.744900\n",
      "301-Train acc:1.0 Test acc:0.9800000190734863 ETA:0:10:31.508922\n",
      "302-Train acc:1.0 Test acc:0.9799000024795532 ETA:0:10:25.593682\n",
      "303-Train acc:1.0 Test acc:0.9797000288963318 ETA:0:10:19.438314\n",
      "304-Train acc:1.0 Test acc:0.9797000288963318 ETA:0:10:11.592384\n",
      "305-Train acc:1.0 Test acc:0.9797999858856201 ETA:0:10:03.140655\n",
      "306-Train acc:1.0 Test acc:0.9797000288963318 ETA:0:09:36.485832\n",
      "307-Train acc:1.0 Test acc:0.9799000024795532 ETA:0:09:50.650347\n",
      "308-Train acc:1.0 Test acc:0.9797999858856201 ETA:0:09:46.068612\n",
      "309-Train acc:1.0 Test acc:0.9800000190734863 ETA:0:09:38.639061\n",
      "310-Train acc:1.0 Test acc:0.9800000190734863 ETA:0:09:33.892290\n",
      "311-Train acc:1.0 Test acc:0.9799000024795532 ETA:0:09:29.902689\n",
      "312-Train acc:1.0 Test acc:0.9800000190734863 ETA:0:09:20.262560\n",
      "313-Train acc:1.0 Test acc:0.9799000024795532 ETA:0:09:29.693226\n",
      "314-Train acc:1.0 Test acc:0.9800999760627747 ETA:0:09:15.923608\n",
      "315-Train acc:1.0 Test acc:0.9800000190734863 ETA:0:09:01.685025\n",
      "316-Train acc:1.0 Test acc:0.9800000190734863 ETA:0:08:56.338740\n",
      "317-Train acc:1.0 Test acc:0.9799000024795532 ETA:0:08:50.480307\n",
      "318-Train acc:1.0 Test acc:0.9800000190734863 ETA:0:08:42.967382\n",
      "319-Train acc:1.0 Test acc:0.9799000024795532 ETA:0:08:35.902689\n",
      "320-Train acc:1.0 Test acc:0.9797999858856201 ETA:0:08:29.558800\n",
      "321-Train acc:1.0 Test acc:0.9799000024795532 ETA:0:08:23.349843\n",
      "322-Train acc:1.0 Test acc:0.9797000288963318 ETA:0:08:16.587624\n",
      "323-Train acc:1.0 Test acc:0.9799000024795532 ETA:0:08:09.483379\n",
      "324-Train acc:1.0 Test acc:0.9800000190734863 ETA:0:08:04.939736\n",
      "325-Train acc:1.0 Test acc:0.9797999858856201 ETA:0:08:00.344625\n",
      "326-Train acc:1.0 Test acc:0.9799000024795532 ETA:0:07:51.843240\n",
      "327-Train acc:1.0 Test acc:0.9799000024795532 ETA:0:07:45.504648\n",
      "328-Train acc:1.0 Test acc:0.9800999760627747 ETA:0:07:39.846000\n",
      "329-Train acc:1.0 Test acc:0.9800999760627747 ETA:0:07:32.786383\n",
      "330-Train acc:1.0 Test acc:0.9800999760627747 ETA:0:07:27.523720\n",
      "331-Train acc:1.0 Test acc:0.9797999858856201 ETA:0:07:18.380874\n",
      "332-Train acc:1.0 Test acc:0.9797000288963318 ETA:0:07:13.558140\n",
      "333-Train acc:1.0 Test acc:0.9800000190734863 ETA:0:07:07.457521\n",
      "334-Train acc:1.0 Test acc:0.9803000092506409 ETA:0:07:02.653770\n",
      "335-Train acc:1.0 Test acc:0.9797000288963318 ETA:0:06:52.344595\n",
      "336-Train acc:1.0 Test acc:0.9800000190734863 ETA:0:06:48.040640\n",
      "337-Train acc:1.0 Test acc:0.9800999760627747 ETA:0:06:41.859171\n",
      "338-Train acc:1.0 Test acc:0.9800000190734863 ETA:0:06:33.668070\n",
      "339-Train acc:1.0 Test acc:0.9799000024795532 ETA:0:06:28.604160\n",
      "340-Train acc:1.0 Test acc:0.9797000288963318 ETA:0:06:22.984020\n",
      "341-Train acc:1.0 Test acc:0.9801999926567078 ETA:0:06:16.947519\n",
      "342-Train acc:1.0 Test acc:0.9797000288963318 ETA:0:06:10.387594\n",
      "343-Train acc:1.0 Test acc:0.9799000024795532 ETA:0:06:02.656629\n",
      "344-Train acc:1.0 Test acc:0.9799000024795532 ETA:0:05:55.480272\n",
      "345-Train acc:1.0 Test acc:0.9797999858856201 ETA:0:05:48.297180\n",
      "346-Train acc:1.0 Test acc:0.9800999760627747 ETA:0:05:44.273544\n",
      "347-Train acc:1.0 Test acc:0.9799000024795532 ETA:0:05:37.649856\n",
      "348-Train acc:1.0 Test acc:0.9797999858856201 ETA:0:05:30.860400\n",
      "349-Train acc:1.0 Test acc:0.9800999760627747 ETA:0:05:25.650198\n",
      "350-Train acc:1.0 Test acc:0.9799000024795532 ETA:0:05:19.384450\n",
      "351-Train acc:1.0 Test acc:0.9800000190734863 ETA:0:05:12.348589\n",
      "352-Train acc:1.0 Test acc:0.9800000190734863 ETA:0:05:06.049104\n",
      "353-Train acc:1.0 Test acc:0.9800000190734863 ETA:0:04:52.196274\n",
      "354-Train acc:1.0 Test acc:0.9800999760627747 ETA:0:04:51.553152\n",
      "355-Train acc:1.0 Test acc:0.9800999760627747 ETA:0:04:46.549875\n",
      "356-Train acc:1.0 Test acc:0.9800000190734863 ETA:0:04:38.450128\n",
      "357-Train acc:1.0 Test acc:0.9800000190734863 ETA:0:04:35.176780\n",
      "358-Train acc:1.0 Test acc:0.9799000024795532 ETA:0:04:26.699034\n",
      "359-Train acc:1.0 Test acc:0.9800000190734863 ETA:0:04:20.597927\n",
      "360-Train acc:1.0 Test acc:0.9799000024795532 ETA:0:04:13.383440\n",
      "361-Train acc:1.0 Test acc:0.9800999760627747 ETA:0:04:09.511587\n",
      "362-Train acc:1.0 Test acc:0.9800999760627747 ETA:0:04:03.518820\n",
      "363-Train acc:1.0 Test acc:0.9797999858856201 ETA:0:03:58.201153\n"
     ]
    },
    {
     "name": "stdout",
     "output_type": "stream",
     "text": [
      "364-Train acc:1.0 Test acc:0.9797000288963318 ETA:0:03:49.786272\n",
      "365-Train acc:1.0 Test acc:0.9797999858856201 ETA:0:03:43.610415\n",
      "366-Train acc:1.0 Test acc:0.9799000024795532 ETA:0:03:37.054470\n",
      "367-Train acc:1.0 Test acc:0.9799000024795532 ETA:0:03:30.980814\n",
      "368-Train acc:1.0 Test acc:0.9799000024795532 ETA:0:03:24.739136\n",
      "369-Train acc:1.0 Test acc:0.9800999760627747 ETA:0:03:18.183558\n",
      "370-Train acc:1.0 Test acc:0.9800000190734863 ETA:0:03:11.753430\n",
      "371-Train acc:1.0 Test acc:0.9797000288963318 ETA:0:03:05.353297\n",
      "372-Train acc:1.0 Test acc:0.9800000190734863 ETA:0:02:58.910284\n",
      "373-Train acc:1.0 Test acc:0.9799000024795532 ETA:0:02:52.207404\n",
      "374-Train acc:1.0 Test acc:0.9797000288963318 ETA:0:02:46.344282\n",
      "375-Train acc:1.0 Test acc:0.9797000288963318 ETA:0:02:39.946750\n",
      "376-Train acc:1.0 Test acc:0.9797999858856201 ETA:0:02:33.158112\n",
      "377-Train acc:1.0 Test acc:0.9800000190734863 ETA:0:02:26.961329\n",
      "378-Train acc:1.0 Test acc:0.9799000024795532 ETA:0:02:20.210510\n",
      "379-Train acc:1.0 Test acc:0.9800000190734863 ETA:0:02:14.151192\n",
      "380-Train acc:1.0 Test acc:0.9799000024795532 ETA:0:02:08.242400\n",
      "381-Train acc:1.0 Test acc:0.9799000024795532 ETA:0:02:01.858305\n",
      "382-Train acc:1.0 Test acc:0.9797999858856201 ETA:0:01:54.993900\n",
      "383-Train acc:1.0 Test acc:0.9800000190734863 ETA:0:01:48.626889\n",
      "384-Train acc:1.0 Test acc:0.9797000288963318 ETA:0:01:42.373632\n",
      "385-Train acc:1.0 Test acc:0.9800999760627747 ETA:0:01:35.797650\n",
      "386-Train acc:1.0 Test acc:0.9799000024795532 ETA:0:01:29.127150\n",
      "387-Train acc:1.0 Test acc:0.9797999858856201 ETA:0:01:23.623059\n",
      "388-Train acc:1.0 Test acc:0.9797999858856201 ETA:0:01:18.526068\n",
      "389-Train acc:1.0 Test acc:0.9799000024795532 ETA:0:01:11.562194\n",
      "390-Train acc:1.0 Test acc:0.9801999926567078 ETA:0:01:04.463300\n",
      "391-Train acc:1.0 Test acc:0.9799000024795532 ETA:0:00:57.818286\n",
      "392-Train acc:1.0 Test acc:0.9797999858856201 ETA:0:00:50.364600\n",
      "393-Train acc:1.0 Test acc:0.9797999858856201 ETA:0:00:44.421342\n",
      "394-Train acc:1.0 Test acc:0.9797999858856201 ETA:0:00:38.306022\n",
      "395-Train acc:1.0 Test acc:0.9800000190734863 ETA:0:00:31.769015\n",
      "396-Train acc:1.0 Test acc:0.9797999858856201 ETA:0:00:25.608348\n",
      "397-Train acc:1.0 Test acc:0.9797000288963318 ETA:0:00:19.106262\n",
      "398-Train acc:1.0 Test acc:0.9799000024795532 ETA:0:00:13.350146\n",
      "399-Train acc:1.0 Test acc:0.9800000190734863 ETA:0:00:06.594315\n"
     ]
    }
   ],
   "source": [
    "with tf.Session() as sess:\n",
    "    init.run()\n",
    "    for epoch in range(n_epochs):\n",
    "        t1=datetime.now()\n",
    "        for iteration in range(mnist.train.num_examples//batch_size):\n",
    "            X_batch,y_batch=mnist.train.next_batch(batch_size)\n",
    "            sess.run(training_op,feed_dict={X:X_batch,y:y_batch})\n",
    "        acc_train=accuracy.eval(feed_dict={X:X_batch,y:y_batch})\n",
    "        acc_test=accuracy.eval(feed_dict={X:mnist.test.images,y:mnist.test.labels})\n",
    "        t2=datetime.now()\n",
    "        tot_sec=((t2-t1).total_seconds())*(n_epochs-epoch)\n",
    "        eta=timedelta(seconds=tot_sec)#.strftime('%H.%M:%S')\n",
    "        print(f'{epoch}-Train acc:{acc_train} Test acc:{acc_test} ETA:{eta}')\n",
    "    save_path=saver.save(sess,r'C:\\Users\\Mohit Goel\\Desktop\\Project\\my_model_final.ckpt')"
   ]
  },
  {
   "cell_type": "markdown",
   "metadata": {},
   "source": [
    "# Testing\n"
   ]
  },
  {
   "cell_type": "code",
   "execution_count": 14,
   "metadata": {},
   "outputs": [],
   "source": [
    "import cv2"
   ]
  },
  {
   "cell_type": "code",
   "execution_count": 15,
   "metadata": {},
   "outputs": [],
   "source": [
    "X_test=cv2.imread('Test_Images/7.jpg')"
   ]
  },
  {
   "cell_type": "code",
   "execution_count": 16,
   "metadata": {},
   "outputs": [],
   "source": [
    "X_test=cv2.cvtColor(X_test,cv2.COLOR_BGR2GRAY)"
   ]
  },
  {
   "cell_type": "code",
   "execution_count": 17,
   "metadata": {},
   "outputs": [],
   "source": [
    "X_test=X_test.flatten()"
   ]
  },
  {
   "cell_type": "code",
   "execution_count": 18,
   "metadata": {
    "scrolled": false
   },
   "outputs": [
    {
     "name": "stderr",
     "output_type": "stream",
     "text": [
      "c:\\python36\\lib\\site-packages\\sklearn\\utils\\validation.py:444: DataConversionWarning: Data with input dtype uint8 was converted to float64 by the scale function.\n",
      "  warnings.warn(msg, DataConversionWarning)\n"
     ]
    }
   ],
   "source": [
    "from sklearn.preprocessing import scale\n",
    "X_test = scale( X_test, with_mean=True, with_std=True, copy=True )"
   ]
  },
  {
   "cell_type": "code",
   "execution_count": 19,
   "metadata": {},
   "outputs": [],
   "source": [
    "Xn=X_test.reshape((1,784))"
   ]
  },
  {
   "cell_type": "code",
   "execution_count": 20,
   "metadata": {
    "scrolled": true
   },
   "outputs": [
    {
     "name": "stdout",
     "output_type": "stream",
     "text": [
      "INFO:tensorflow:Restoring parameters from my_model_final.ckpt\n"
     ]
    }
   ],
   "source": [
    " with tf.Session() as sess:\n",
    "        saver.restore(sess,'my_model_final.ckpt')\n",
    "        Z=logits.eval(feed_dict={X:Xn})\n",
    "        y_pred=np.argmax(Z,axis=1)"
   ]
  },
  {
   "cell_type": "code",
   "execution_count": 21,
   "metadata": {},
   "outputs": [
    {
     "data": {
      "text/plain": [
       "array([7], dtype=int64)"
      ]
     },
     "execution_count": 21,
     "metadata": {},
     "output_type": "execute_result"
    }
   ],
   "source": [
    "y_pred"
   ]
  },
  {
   "cell_type": "code",
   "execution_count": 23,
   "metadata": {},
   "outputs": [],
   "source": [
    "import matplotlib.pyplot as plt\n",
    "%matplotlib inline"
   ]
  },
  {
   "cell_type": "code",
   "execution_count": 24,
   "metadata": {},
   "outputs": [
    {
     "data": {
      "text/plain": [
       "<matplotlib.image.AxesImage at 0x17583b9d160>"
      ]
     },
     "execution_count": 24,
     "metadata": {},
     "output_type": "execute_result"
    },
    {
     "data": {
      "image/png": "[encoded data removed]",
      "text/plain": [
       "<matplotlib.figure.Figure at 0x175838df630>"
      ]
     },
     "metadata": {},
     "output_type": "display_data"
    }
   ],
   "source": [
    "plt.imshow(X_test.reshape((28,28)))"
   ]
  },
  {
   "cell_type": "code",
   "execution_count": null,
   "metadata": {},
   "outputs": [],
   "source": []
  }
 ],
 "metadata": {
  "kernelspec": {
   "display_name": "Python 3",
   "language": "python",
   "name": "python3"
  },
  "language_info": {
   "codemirror_mode": {
    "name": "ipython",
    "version": 3
   },
   "file_extension": ".py",
   "mimetype": "text/x-python",
   "name": "python",
   "nbconvert_exporter": "python",
   "pygments_lexer": "ipython3",
   "version": "3.6.2"
  }
 },
 "nbformat": 4,
 "nbformat_minor": 2
}
